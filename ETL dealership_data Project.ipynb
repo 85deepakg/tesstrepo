{
 "cells": [
  {
   "cell_type": "code",
   "execution_count": 34,
   "metadata": {},
   "outputs": [],
   "source": [
    "# Import the required modules and functions\n",
    "\n",
    "import datetime\n",
    "import glob\n",
    "import pandas as pd\n",
    "import xml.etree.ElementTree as ET\n",
    "from datetime import datetime"
   ]
  },
  {
   "cell_type": "code",
   "execution_count": 35,
   "metadata": {},
   "outputs": [
    {
     "name": "stderr",
     "output_type": "stream",
     "text": [
      "'wget' is not recognized as an internal or external command,\n",
      "operable program or batch file.\n"
     ]
    }
   ],
   "source": [
    "## Download Files in case of Linux\n",
    "\n",
    "!wget https://cf-courses-data.s3.us.cloud-object-storage.appdomain.cloud/IBMDeveloperSkillsNetwork-PY0221EN-SkillsNetwork/labs/module%206/Lab%20-%20Extract%20Transform%20Load/data/datasource.zip"
   ]
  },
  {
   "cell_type": "code",
   "execution_count": 36,
   "metadata": {},
   "outputs": [
    {
     "name": "stderr",
     "output_type": "stream",
     "text": [
      "'unzip' is not recognized as an internal or external command,\n",
      "operable program or batch file.\n"
     ]
    }
   ],
   "source": [
    "## Unzip Files in case of Linux\n",
    "\n",
    "!unzip datasource.zip -d dealership_data"
   ]
  },
  {
   "cell_type": "markdown",
   "metadata": {},
   "source": [
    "About the Data\n",
    "The file dealership_data contains CSV, JSON, and XML files for used car data which contain features named car_model, year_of_manufacture, price, and fuel."
   ]
  },
  {
   "cell_type": "code",
   "execution_count": 37,
   "metadata": {},
   "outputs": [],
   "source": [
    "## Set Paths\n",
    "tmpfile=\"dealership_temp.tmp\"                   # file used to store all extracted data\n",
    "logfiles=\"dealership_logfile.txt\"               # all event logs will be stored in this file\n",
    "targetfile=\"dealership_transformed_data.csv\"    # file where transformed data is stored"
   ]
  },
  {
   "cell_type": "code",
   "execution_count": 38,
   "metadata": {},
   "outputs": [],
   "source": [
    "### CSV Extract Function\n",
    "def extract_from_csv(file_to_process):\n",
    "    dataframe=pd.read_csv(file_to_process)\n",
    "    return dataframe"
   ]
  },
  {
   "cell_type": "code",
   "execution_count": 39,
   "metadata": {},
   "outputs": [],
   "source": [
    "### JSON Extract Function\n",
    "def extract_from_json(file_to_process):\n",
    "    dataframe=pd.read_json(file_to_process, lines=True)\n",
    "    return dataframe"
   ]
  },
  {
   "cell_type": "code",
   "execution_count": 40,
   "metadata": {},
   "outputs": [],
   "source": [
    "#### XML Extract Function\n",
    "from datetime import date\n",
    "\n",
    "\n",
    "def extract_from_xml(file_to_process):\n",
    "    dataframe=pd.DataFrame(columns=[\"car_model\",\"year_of_manufacture\",\"price\",\"fuel\"])\n",
    "    tree=ET.parse(file_to_process)\n",
    "    root=tree.getroot()\n",
    "    for car in root:\n",
    "        car_model=str(car.find(\"car_model\").text)\n",
    "        year_of_manufacture=int(car.find(\"year_of_manufacture\").text)\n",
    "        price=float(car.find(\"price\").text)\n",
    "        fuel=str(car.find(\"fuel\").text)\n",
    "        dataframe=dataframe.append({\"car_model\":car_model,\"year_of_manufacture\":year_of_manufacture, \"price\":price, \"fuel\":fuel}, ignore_index=True)\n",
    "    return dataframe"
   ]
  },
  {
   "cell_type": "code",
   "execution_count": 41,
   "metadata": {},
   "outputs": [],
   "source": [
    "### Extract Function\n",
    "\n",
    "def extract():\n",
    "    extracted_data1=pd.DataFrame(columns=['car_model','year_of_manufacture','price','fuel'])\n",
    "\n",
    "    #process all csv files\n",
    "    for csvfile in glob.glob(\"D:\\IBM Data Engineering\\Course 3 Python Project for Data Engineering\\dealership_data\\*.csv\"):\n",
    "        extracted_data1=extracted_data1.append(extract_from_csv(csvfile), ignore_index=True)\n",
    "\n",
    "    #process all json files\n",
    "    for jsonfile in glob.glob(\"D:\\IBM Data Engineering\\Course 3 Python Project for Data Engineering\\dealership_data\\*.json\"):\n",
    "        extracted_data1=extracted_data1.append(extract_from_json(jsonfile), ignore_index=True)\n",
    "\n",
    "    #process all xml files\n",
    "    for xmlfile in glob.glob(\"D:\\IBM Data Engineering\\Course 3 Python Project for Data Engineering\\dealership_data\\*.xml\"):\n",
    "        extracted_data1=extracted_data1.append(extract_from_xml(xmlfile), ignore_index=True)\n",
    "\n",
    "    return extracted_data1"
   ]
  },
  {
   "cell_type": "markdown",
   "metadata": {},
   "source": [
    "Transform\n",
    "The transform function does the following tasks.\n",
    "\n",
    "1.  Convert height which is in inches to millimeter\n",
    "2.  Convert weight which is in pounds to kilograms"
   ]
  },
  {
   "cell_type": "code",
   "execution_count": 44,
   "metadata": {},
   "outputs": [],
   "source": [
    "def transform(data):\n",
    "    data[\"price\"]=round(data.price,2)\n",
    "    return data"
   ]
  },
  {
   "cell_type": "markdown",
   "metadata": {},
   "source": [
    "Loading"
   ]
  },
  {
   "cell_type": "code",
   "execution_count": 45,
   "metadata": {},
   "outputs": [],
   "source": [
    "def load(targetfile,data_to_load):\n",
    "    data_to_load.to_csv(targetfile)"
   ]
  },
  {
   "cell_type": "markdown",
   "metadata": {},
   "source": [
    "Logging"
   ]
  },
  {
   "cell_type": "code",
   "execution_count": 46,
   "metadata": {},
   "outputs": [],
   "source": [
    "def log(message):\n",
    "    timestamp_format='%Y-%h-%d-%H:%M:%S'\n",
    "    now=datetime.now()\n",
    "    timestamp=now.strftime(timestamp_format)\n",
    "    with open(\"dealership_logfile.txt\",\"a\") as f:\n",
    "        f.write(timestamp + ',' + message +'\\n')"
   ]
  },
  {
   "cell_type": "markdown",
   "metadata": {},
   "source": [
    "Running ETL Process"
   ]
  },
  {
   "cell_type": "code",
   "execution_count": 47,
   "metadata": {},
   "outputs": [],
   "source": [
    "log(\"ETL Job Started\")"
   ]
  },
  {
   "cell_type": "code",
   "execution_count": 48,
   "metadata": {},
   "outputs": [
    {
     "name": "stderr",
     "output_type": "stream",
     "text": [
      "C:\\Users\\deepa\\AppData\\Local\\Temp\\ipykernel_18936\\372733501.py:8: FutureWarning: The frame.append method is deprecated and will be removed from pandas in a future version. Use pandas.concat instead.\n",
      "  extracted_data1=extracted_data1.append(extract_from_csv(csvfile), ignore_index=True)\n",
      "C:\\Users\\deepa\\AppData\\Local\\Temp\\ipykernel_18936\\372733501.py:8: FutureWarning: The frame.append method is deprecated and will be removed from pandas in a future version. Use pandas.concat instead.\n",
      "  extracted_data1=extracted_data1.append(extract_from_csv(csvfile), ignore_index=True)\n",
      "C:\\Users\\deepa\\AppData\\Local\\Temp\\ipykernel_18936\\372733501.py:8: FutureWarning: The frame.append method is deprecated and will be removed from pandas in a future version. Use pandas.concat instead.\n",
      "  extracted_data1=extracted_data1.append(extract_from_csv(csvfile), ignore_index=True)\n",
      "C:\\Users\\deepa\\AppData\\Local\\Temp\\ipykernel_18936\\372733501.py:12: FutureWarning: The frame.append method is deprecated and will be removed from pandas in a future version. Use pandas.concat instead.\n",
      "  extracted_data1=extracted_data1.append(extract_from_json(jsonfile), ignore_index=True)\n",
      "C:\\Users\\deepa\\AppData\\Local\\Temp\\ipykernel_18936\\372733501.py:12: FutureWarning: The frame.append method is deprecated and will be removed from pandas in a future version. Use pandas.concat instead.\n",
      "  extracted_data1=extracted_data1.append(extract_from_json(jsonfile), ignore_index=True)\n",
      "C:\\Users\\deepa\\AppData\\Local\\Temp\\ipykernel_18936\\372733501.py:12: FutureWarning: The frame.append method is deprecated and will be removed from pandas in a future version. Use pandas.concat instead.\n",
      "  extracted_data1=extracted_data1.append(extract_from_json(jsonfile), ignore_index=True)\n",
      "C:\\Users\\deepa\\AppData\\Local\\Temp\\ipykernel_18936\\3950981591.py:14: FutureWarning: The frame.append method is deprecated and will be removed from pandas in a future version. Use pandas.concat instead.\n",
      "  dataframe=dataframe.append({\"car_model\":car_model,\"year_of_manufacture\":year_of_manufacture, \"price\":price, \"fuel\":fuel}, ignore_index=True)\n",
      "C:\\Users\\deepa\\AppData\\Local\\Temp\\ipykernel_18936\\3950981591.py:14: FutureWarning: The frame.append method is deprecated and will be removed from pandas in a future version. Use pandas.concat instead.\n",
      "  dataframe=dataframe.append({\"car_model\":car_model,\"year_of_manufacture\":year_of_manufacture, \"price\":price, \"fuel\":fuel}, ignore_index=True)\n",
      "C:\\Users\\deepa\\AppData\\Local\\Temp\\ipykernel_18936\\3950981591.py:14: FutureWarning: The frame.append method is deprecated and will be removed from pandas in a future version. Use pandas.concat instead.\n",
      "  dataframe=dataframe.append({\"car_model\":car_model,\"year_of_manufacture\":year_of_manufacture, \"price\":price, \"fuel\":fuel}, ignore_index=True)\n",
      "C:\\Users\\deepa\\AppData\\Local\\Temp\\ipykernel_18936\\3950981591.py:14: FutureWarning: The frame.append method is deprecated and will be removed from pandas in a future version. Use pandas.concat instead.\n",
      "  dataframe=dataframe.append({\"car_model\":car_model,\"year_of_manufacture\":year_of_manufacture, \"price\":price, \"fuel\":fuel}, ignore_index=True)\n",
      "C:\\Users\\deepa\\AppData\\Local\\Temp\\ipykernel_18936\\3950981591.py:14: FutureWarning: The frame.append method is deprecated and will be removed from pandas in a future version. Use pandas.concat instead.\n",
      "  dataframe=dataframe.append({\"car_model\":car_model,\"year_of_manufacture\":year_of_manufacture, \"price\":price, \"fuel\":fuel}, ignore_index=True)\n",
      "C:\\Users\\deepa\\AppData\\Local\\Temp\\ipykernel_18936\\3950981591.py:14: FutureWarning: The frame.append method is deprecated and will be removed from pandas in a future version. Use pandas.concat instead.\n",
      "  dataframe=dataframe.append({\"car_model\":car_model,\"year_of_manufacture\":year_of_manufacture, \"price\":price, \"fuel\":fuel}, ignore_index=True)\n",
      "C:\\Users\\deepa\\AppData\\Local\\Temp\\ipykernel_18936\\3950981591.py:14: FutureWarning: The frame.append method is deprecated and will be removed from pandas in a future version. Use pandas.concat instead.\n",
      "  dataframe=dataframe.append({\"car_model\":car_model,\"year_of_manufacture\":year_of_manufacture, \"price\":price, \"fuel\":fuel}, ignore_index=True)\n",
      "C:\\Users\\deepa\\AppData\\Local\\Temp\\ipykernel_18936\\3950981591.py:14: FutureWarning: The frame.append method is deprecated and will be removed from pandas in a future version. Use pandas.concat instead.\n",
      "  dataframe=dataframe.append({\"car_model\":car_model,\"year_of_manufacture\":year_of_manufacture, \"price\":price, \"fuel\":fuel}, ignore_index=True)\n",
      "C:\\Users\\deepa\\AppData\\Local\\Temp\\ipykernel_18936\\3950981591.py:14: FutureWarning: The frame.append method is deprecated and will be removed from pandas in a future version. Use pandas.concat instead.\n",
      "  dataframe=dataframe.append({\"car_model\":car_model,\"year_of_manufacture\":year_of_manufacture, \"price\":price, \"fuel\":fuel}, ignore_index=True)\n",
      "C:\\Users\\deepa\\AppData\\Local\\Temp\\ipykernel_18936\\3950981591.py:14: FutureWarning: The frame.append method is deprecated and will be removed from pandas in a future version. Use pandas.concat instead.\n",
      "  dataframe=dataframe.append({\"car_model\":car_model,\"year_of_manufacture\":year_of_manufacture, \"price\":price, \"fuel\":fuel}, ignore_index=True)\n",
      "C:\\Users\\deepa\\AppData\\Local\\Temp\\ipykernel_18936\\372733501.py:16: FutureWarning: The frame.append method is deprecated and will be removed from pandas in a future version. Use pandas.concat instead.\n",
      "  extracted_data1=extracted_data1.append(extract_from_xml(xmlfile), ignore_index=True)\n",
      "C:\\Users\\deepa\\AppData\\Local\\Temp\\ipykernel_18936\\3950981591.py:14: FutureWarning: The frame.append method is deprecated and will be removed from pandas in a future version. Use pandas.concat instead.\n",
      "  dataframe=dataframe.append({\"car_model\":car_model,\"year_of_manufacture\":year_of_manufacture, \"price\":price, \"fuel\":fuel}, ignore_index=True)\n",
      "C:\\Users\\deepa\\AppData\\Local\\Temp\\ipykernel_18936\\3950981591.py:14: FutureWarning: The frame.append method is deprecated and will be removed from pandas in a future version. Use pandas.concat instead.\n",
      "  dataframe=dataframe.append({\"car_model\":car_model,\"year_of_manufacture\":year_of_manufacture, \"price\":price, \"fuel\":fuel}, ignore_index=True)\n",
      "C:\\Users\\deepa\\AppData\\Local\\Temp\\ipykernel_18936\\3950981591.py:14: FutureWarning: The frame.append method is deprecated and will be removed from pandas in a future version. Use pandas.concat instead.\n",
      "  dataframe=dataframe.append({\"car_model\":car_model,\"year_of_manufacture\":year_of_manufacture, \"price\":price, \"fuel\":fuel}, ignore_index=True)\n",
      "C:\\Users\\deepa\\AppData\\Local\\Temp\\ipykernel_18936\\3950981591.py:14: FutureWarning: The frame.append method is deprecated and will be removed from pandas in a future version. Use pandas.concat instead.\n",
      "  dataframe=dataframe.append({\"car_model\":car_model,\"year_of_manufacture\":year_of_manufacture, \"price\":price, \"fuel\":fuel}, ignore_index=True)\n",
      "C:\\Users\\deepa\\AppData\\Local\\Temp\\ipykernel_18936\\3950981591.py:14: FutureWarning: The frame.append method is deprecated and will be removed from pandas in a future version. Use pandas.concat instead.\n",
      "  dataframe=dataframe.append({\"car_model\":car_model,\"year_of_manufacture\":year_of_manufacture, \"price\":price, \"fuel\":fuel}, ignore_index=True)\n",
      "C:\\Users\\deepa\\AppData\\Local\\Temp\\ipykernel_18936\\3950981591.py:14: FutureWarning: The frame.append method is deprecated and will be removed from pandas in a future version. Use pandas.concat instead.\n",
      "  dataframe=dataframe.append({\"car_model\":car_model,\"year_of_manufacture\":year_of_manufacture, \"price\":price, \"fuel\":fuel}, ignore_index=True)\n",
      "C:\\Users\\deepa\\AppData\\Local\\Temp\\ipykernel_18936\\3950981591.py:14: FutureWarning: The frame.append method is deprecated and will be removed from pandas in a future version. Use pandas.concat instead.\n",
      "  dataframe=dataframe.append({\"car_model\":car_model,\"year_of_manufacture\":year_of_manufacture, \"price\":price, \"fuel\":fuel}, ignore_index=True)\n",
      "C:\\Users\\deepa\\AppData\\Local\\Temp\\ipykernel_18936\\3950981591.py:14: FutureWarning: The frame.append method is deprecated and will be removed from pandas in a future version. Use pandas.concat instead.\n",
      "  dataframe=dataframe.append({\"car_model\":car_model,\"year_of_manufacture\":year_of_manufacture, \"price\":price, \"fuel\":fuel}, ignore_index=True)\n",
      "C:\\Users\\deepa\\AppData\\Local\\Temp\\ipykernel_18936\\3950981591.py:14: FutureWarning: The frame.append method is deprecated and will be removed from pandas in a future version. Use pandas.concat instead.\n",
      "  dataframe=dataframe.append({\"car_model\":car_model,\"year_of_manufacture\":year_of_manufacture, \"price\":price, \"fuel\":fuel}, ignore_index=True)\n",
      "C:\\Users\\deepa\\AppData\\Local\\Temp\\ipykernel_18936\\3950981591.py:14: FutureWarning: The frame.append method is deprecated and will be removed from pandas in a future version. Use pandas.concat instead.\n",
      "  dataframe=dataframe.append({\"car_model\":car_model,\"year_of_manufacture\":year_of_manufacture, \"price\":price, \"fuel\":fuel}, ignore_index=True)\n",
      "C:\\Users\\deepa\\AppData\\Local\\Temp\\ipykernel_18936\\372733501.py:16: FutureWarning: The frame.append method is deprecated and will be removed from pandas in a future version. Use pandas.concat instead.\n",
      "  extracted_data1=extracted_data1.append(extract_from_xml(xmlfile), ignore_index=True)\n",
      "C:\\Users\\deepa\\AppData\\Local\\Temp\\ipykernel_18936\\3950981591.py:14: FutureWarning: The frame.append method is deprecated and will be removed from pandas in a future version. Use pandas.concat instead.\n",
      "  dataframe=dataframe.append({\"car_model\":car_model,\"year_of_manufacture\":year_of_manufacture, \"price\":price, \"fuel\":fuel}, ignore_index=True)\n",
      "C:\\Users\\deepa\\AppData\\Local\\Temp\\ipykernel_18936\\3950981591.py:14: FutureWarning: The frame.append method is deprecated and will be removed from pandas in a future version. Use pandas.concat instead.\n",
      "  dataframe=dataframe.append({\"car_model\":car_model,\"year_of_manufacture\":year_of_manufacture, \"price\":price, \"fuel\":fuel}, ignore_index=True)\n",
      "C:\\Users\\deepa\\AppData\\Local\\Temp\\ipykernel_18936\\3950981591.py:14: FutureWarning: The frame.append method is deprecated and will be removed from pandas in a future version. Use pandas.concat instead.\n",
      "  dataframe=dataframe.append({\"car_model\":car_model,\"year_of_manufacture\":year_of_manufacture, \"price\":price, \"fuel\":fuel}, ignore_index=True)\n",
      "C:\\Users\\deepa\\AppData\\Local\\Temp\\ipykernel_18936\\3950981591.py:14: FutureWarning: The frame.append method is deprecated and will be removed from pandas in a future version. Use pandas.concat instead.\n",
      "  dataframe=dataframe.append({\"car_model\":car_model,\"year_of_manufacture\":year_of_manufacture, \"price\":price, \"fuel\":fuel}, ignore_index=True)\n",
      "C:\\Users\\deepa\\AppData\\Local\\Temp\\ipykernel_18936\\3950981591.py:14: FutureWarning: The frame.append method is deprecated and will be removed from pandas in a future version. Use pandas.concat instead.\n",
      "  dataframe=dataframe.append({\"car_model\":car_model,\"year_of_manufacture\":year_of_manufacture, \"price\":price, \"fuel\":fuel}, ignore_index=True)\n",
      "C:\\Users\\deepa\\AppData\\Local\\Temp\\ipykernel_18936\\3950981591.py:14: FutureWarning: The frame.append method is deprecated and will be removed from pandas in a future version. Use pandas.concat instead.\n",
      "  dataframe=dataframe.append({\"car_model\":car_model,\"year_of_manufacture\":year_of_manufacture, \"price\":price, \"fuel\":fuel}, ignore_index=True)\n",
      "C:\\Users\\deepa\\AppData\\Local\\Temp\\ipykernel_18936\\3950981591.py:14: FutureWarning: The frame.append method is deprecated and will be removed from pandas in a future version. Use pandas.concat instead.\n",
      "  dataframe=dataframe.append({\"car_model\":car_model,\"year_of_manufacture\":year_of_manufacture, \"price\":price, \"fuel\":fuel}, ignore_index=True)\n",
      "C:\\Users\\deepa\\AppData\\Local\\Temp\\ipykernel_18936\\3950981591.py:14: FutureWarning: The frame.append method is deprecated and will be removed from pandas in a future version. Use pandas.concat instead.\n",
      "  dataframe=dataframe.append({\"car_model\":car_model,\"year_of_manufacture\":year_of_manufacture, \"price\":price, \"fuel\":fuel}, ignore_index=True)\n",
      "C:\\Users\\deepa\\AppData\\Local\\Temp\\ipykernel_18936\\3950981591.py:14: FutureWarning: The frame.append method is deprecated and will be removed from pandas in a future version. Use pandas.concat instead.\n",
      "  dataframe=dataframe.append({\"car_model\":car_model,\"year_of_manufacture\":year_of_manufacture, \"price\":price, \"fuel\":fuel}, ignore_index=True)\n",
      "C:\\Users\\deepa\\AppData\\Local\\Temp\\ipykernel_18936\\3950981591.py:14: FutureWarning: The frame.append method is deprecated and will be removed from pandas in a future version. Use pandas.concat instead.\n",
      "  dataframe=dataframe.append({\"car_model\":car_model,\"year_of_manufacture\":year_of_manufacture, \"price\":price, \"fuel\":fuel}, ignore_index=True)\n",
      "C:\\Users\\deepa\\AppData\\Local\\Temp\\ipykernel_18936\\372733501.py:16: FutureWarning: The frame.append method is deprecated and will be removed from pandas in a future version. Use pandas.concat instead.\n",
      "  extracted_data1=extracted_data1.append(extract_from_xml(xmlfile), ignore_index=True)\n"
     ]
    },
    {
     "data": {
      "text/html": [
       "<div>\n",
       "<style scoped>\n",
       "    .dataframe tbody tr th:only-of-type {\n",
       "        vertical-align: middle;\n",
       "    }\n",
       "\n",
       "    .dataframe tbody tr th {\n",
       "        vertical-align: top;\n",
       "    }\n",
       "\n",
       "    .dataframe thead th {\n",
       "        text-align: right;\n",
       "    }\n",
       "</style>\n",
       "<table border=\"1\" class=\"dataframe\">\n",
       "  <thead>\n",
       "    <tr style=\"text-align: right;\">\n",
       "      <th></th>\n",
       "      <th>car_model</th>\n",
       "      <th>year_of_manufacture</th>\n",
       "      <th>price</th>\n",
       "      <th>fuel</th>\n",
       "    </tr>\n",
       "  </thead>\n",
       "  <tbody>\n",
       "    <tr>\n",
       "      <th>0</th>\n",
       "      <td>ritz</td>\n",
       "      <td>2014</td>\n",
       "      <td>5000.000000</td>\n",
       "      <td>Petrol</td>\n",
       "    </tr>\n",
       "    <tr>\n",
       "      <th>1</th>\n",
       "      <td>sx4</td>\n",
       "      <td>2013</td>\n",
       "      <td>7089.552239</td>\n",
       "      <td>Diesel</td>\n",
       "    </tr>\n",
       "    <tr>\n",
       "      <th>2</th>\n",
       "      <td>ciaz</td>\n",
       "      <td>2017</td>\n",
       "      <td>10820.895522</td>\n",
       "      <td>Petrol</td>\n",
       "    </tr>\n",
       "    <tr>\n",
       "      <th>3</th>\n",
       "      <td>wagon r</td>\n",
       "      <td>2011</td>\n",
       "      <td>4253.731343</td>\n",
       "      <td>Petrol</td>\n",
       "    </tr>\n",
       "    <tr>\n",
       "      <th>4</th>\n",
       "      <td>swift</td>\n",
       "      <td>2014</td>\n",
       "      <td>6865.671642</td>\n",
       "      <td>Diesel</td>\n",
       "    </tr>\n",
       "    <tr>\n",
       "      <th>...</th>\n",
       "      <td>...</td>\n",
       "      <td>...</td>\n",
       "      <td>...</td>\n",
       "      <td>...</td>\n",
       "    </tr>\n",
       "    <tr>\n",
       "      <th>85</th>\n",
       "      <td>camry</td>\n",
       "      <td>2006</td>\n",
       "      <td>3731.343284</td>\n",
       "      <td>Petrol</td>\n",
       "    </tr>\n",
       "    <tr>\n",
       "      <th>86</th>\n",
       "      <td>land cruiser</td>\n",
       "      <td>2010</td>\n",
       "      <td>52238.805970</td>\n",
       "      <td>Diesel</td>\n",
       "    </tr>\n",
       "    <tr>\n",
       "      <th>87</th>\n",
       "      <td>corolla altis</td>\n",
       "      <td>2012</td>\n",
       "      <td>8805.970149</td>\n",
       "      <td>Petrol</td>\n",
       "    </tr>\n",
       "    <tr>\n",
       "      <th>88</th>\n",
       "      <td>etios liva</td>\n",
       "      <td>2013</td>\n",
       "      <td>5149.253731</td>\n",
       "      <td>Petrol</td>\n",
       "    </tr>\n",
       "    <tr>\n",
       "      <th>89</th>\n",
       "      <td>etios g</td>\n",
       "      <td>2014</td>\n",
       "      <td>7089.552239</td>\n",
       "      <td>Petrol</td>\n",
       "    </tr>\n",
       "  </tbody>\n",
       "</table>\n",
       "<p>90 rows × 4 columns</p>\n",
       "</div>"
      ],
      "text/plain": [
       "        car_model year_of_manufacture         price    fuel\n",
       "0            ritz                2014   5000.000000  Petrol\n",
       "1             sx4                2013   7089.552239  Diesel\n",
       "2            ciaz                2017  10820.895522  Petrol\n",
       "3         wagon r                2011   4253.731343  Petrol\n",
       "4           swift                2014   6865.671642  Diesel\n",
       "..            ...                 ...           ...     ...\n",
       "85          camry                2006   3731.343284  Petrol\n",
       "86   land cruiser                2010  52238.805970  Diesel\n",
       "87  corolla altis                2012   8805.970149  Petrol\n",
       "88     etios liva                2013   5149.253731  Petrol\n",
       "89        etios g                2014   7089.552239  Petrol\n",
       "\n",
       "[90 rows x 4 columns]"
      ]
     },
     "execution_count": 48,
     "metadata": {},
     "output_type": "execute_result"
    }
   ],
   "source": [
    "log(\"Extract Phase Started\")\n",
    "extracted_data1=extract()\n",
    "log(\"Extract Phase Ended\")\n",
    "extracted_data1"
   ]
  },
  {
   "cell_type": "code",
   "execution_count": 49,
   "metadata": {},
   "outputs": [
    {
     "data": {
      "text/html": [
       "<div>\n",
       "<style scoped>\n",
       "    .dataframe tbody tr th:only-of-type {\n",
       "        vertical-align: middle;\n",
       "    }\n",
       "\n",
       "    .dataframe tbody tr th {\n",
       "        vertical-align: top;\n",
       "    }\n",
       "\n",
       "    .dataframe thead th {\n",
       "        text-align: right;\n",
       "    }\n",
       "</style>\n",
       "<table border=\"1\" class=\"dataframe\">\n",
       "  <thead>\n",
       "    <tr style=\"text-align: right;\">\n",
       "      <th></th>\n",
       "      <th>car_model</th>\n",
       "      <th>year_of_manufacture</th>\n",
       "      <th>price</th>\n",
       "      <th>fuel</th>\n",
       "    </tr>\n",
       "  </thead>\n",
       "  <tbody>\n",
       "    <tr>\n",
       "      <th>0</th>\n",
       "      <td>ritz</td>\n",
       "      <td>2014</td>\n",
       "      <td>5000.00</td>\n",
       "      <td>Petrol</td>\n",
       "    </tr>\n",
       "    <tr>\n",
       "      <th>1</th>\n",
       "      <td>sx4</td>\n",
       "      <td>2013</td>\n",
       "      <td>7089.55</td>\n",
       "      <td>Diesel</td>\n",
       "    </tr>\n",
       "    <tr>\n",
       "      <th>2</th>\n",
       "      <td>ciaz</td>\n",
       "      <td>2017</td>\n",
       "      <td>10820.90</td>\n",
       "      <td>Petrol</td>\n",
       "    </tr>\n",
       "    <tr>\n",
       "      <th>3</th>\n",
       "      <td>wagon r</td>\n",
       "      <td>2011</td>\n",
       "      <td>4253.73</td>\n",
       "      <td>Petrol</td>\n",
       "    </tr>\n",
       "    <tr>\n",
       "      <th>4</th>\n",
       "      <td>swift</td>\n",
       "      <td>2014</td>\n",
       "      <td>6865.67</td>\n",
       "      <td>Diesel</td>\n",
       "    </tr>\n",
       "    <tr>\n",
       "      <th>...</th>\n",
       "      <td>...</td>\n",
       "      <td>...</td>\n",
       "      <td>...</td>\n",
       "      <td>...</td>\n",
       "    </tr>\n",
       "    <tr>\n",
       "      <th>85</th>\n",
       "      <td>camry</td>\n",
       "      <td>2006</td>\n",
       "      <td>3731.34</td>\n",
       "      <td>Petrol</td>\n",
       "    </tr>\n",
       "    <tr>\n",
       "      <th>86</th>\n",
       "      <td>land cruiser</td>\n",
       "      <td>2010</td>\n",
       "      <td>52238.81</td>\n",
       "      <td>Diesel</td>\n",
       "    </tr>\n",
       "    <tr>\n",
       "      <th>87</th>\n",
       "      <td>corolla altis</td>\n",
       "      <td>2012</td>\n",
       "      <td>8805.97</td>\n",
       "      <td>Petrol</td>\n",
       "    </tr>\n",
       "    <tr>\n",
       "      <th>88</th>\n",
       "      <td>etios liva</td>\n",
       "      <td>2013</td>\n",
       "      <td>5149.25</td>\n",
       "      <td>Petrol</td>\n",
       "    </tr>\n",
       "    <tr>\n",
       "      <th>89</th>\n",
       "      <td>etios g</td>\n",
       "      <td>2014</td>\n",
       "      <td>7089.55</td>\n",
       "      <td>Petrol</td>\n",
       "    </tr>\n",
       "  </tbody>\n",
       "</table>\n",
       "<p>90 rows × 4 columns</p>\n",
       "</div>"
      ],
      "text/plain": [
       "        car_model year_of_manufacture     price    fuel\n",
       "0            ritz                2014   5000.00  Petrol\n",
       "1             sx4                2013   7089.55  Diesel\n",
       "2            ciaz                2017  10820.90  Petrol\n",
       "3         wagon r                2011   4253.73  Petrol\n",
       "4           swift                2014   6865.67  Diesel\n",
       "..            ...                 ...       ...     ...\n",
       "85          camry                2006   3731.34  Petrol\n",
       "86   land cruiser                2010  52238.81  Diesel\n",
       "87  corolla altis                2012   8805.97  Petrol\n",
       "88     etios liva                2013   5149.25  Petrol\n",
       "89        etios g                2014   7089.55  Petrol\n",
       "\n",
       "[90 rows x 4 columns]"
      ]
     },
     "execution_count": 49,
     "metadata": {},
     "output_type": "execute_result"
    }
   ],
   "source": [
    "log(\"Transform Phase Started\")\n",
    "transformed_data=transform(extracted_data1)\n",
    "log(\"Transform Phase Ended\")\n",
    "transformed_data"
   ]
  },
  {
   "cell_type": "code",
   "execution_count": 50,
   "metadata": {},
   "outputs": [],
   "source": [
    "log(\"Load Phase Started\")\n",
    "load(targetfile, transformed_data)\n",
    "log(\"Load Phase Ended\")"
   ]
  },
  {
   "cell_type": "code",
   "execution_count": 51,
   "metadata": {},
   "outputs": [],
   "source": [
    "log(\"ETL Job Ended\")"
   ]
  },
  {
   "cell_type": "code",
   "execution_count": 54,
   "metadata": {},
   "outputs": [
    {
     "name": "stdout",
     "output_type": "stream",
     "text": [
      ",name,height,weight\n",
      "0,alex,1.67,51.25\n",
      "1,ajay,1.82,61.91\n",
      "2,alice,1.76,69.41\n",
      "3,ravi,1.73,64.56\n",
      "4,joe,1.72,65.45\n",
      "5,alex,1.67,51.25\n",
      "6,ajay,1.82,61.91\n",
      "7,alice,1.76,69.41\n",
      "8,ravi,1.73,64.56\n",
      "9,joe,1.72,65.45\n",
      "10,alex,1.67,51.25\n",
      "11,ajay,1.82,61.91\n",
      "12,alice,1.76,69.41\n",
      "13,ravi,1.73,64.56\n",
      "14,joe,1.72,65.45\n",
      "15,jack,1.74,55.93\n",
      "16,tom,1.77,64.18\n",
      "17,tracy,1.78,61.9\n",
      "18,john,1.72,50.97\n",
      "19,jack,1.74,55.93\n",
      "20,tom,1.77,64.18\n",
      "21,tracy,1.78,61.9\n",
      "22,john,1.72,50.97\n",
      "23,jack,1.74,55.93\n",
      "24,tom,1.77,64.18\n",
      "25,tracy,1.78,61.9\n",
      "26,john,1.72,50.97\n",
      "27,simon,1.72,50.97\n",
      "28,jacob,1.7,54.73\n",
      "29,cindy,1.69,57.81\n",
      "30,ivan,1.72,51.77\n",
      "31,simon,1.72,50.97\n",
      "32,jacob,1.7,54.73\n",
      "33,cindy,1.69,57.81\n",
      "34,ivan,1.72,51.77\n",
      "35,simon,1.72,50.97\n",
      "36,jacob,1.7,54.73\n",
      "37,cindy,1.69,57.81\n",
      "38,ivan,1.72,51.77\n",
      "\n"
     ]
    }
   ],
   "source": [
    "f = open(\"transformed_data.csv\", \"r\")\n",
    "print(f.read())"
   ]
  }
 ],
 "metadata": {
  "kernelspec": {
   "display_name": "Python 3.10.6 64-bit",
   "language": "python",
   "name": "python3"
  },
  "language_info": {
   "codemirror_mode": {
    "name": "ipython",
    "version": 3
   },
   "file_extension": ".py",
   "mimetype": "text/x-python",
   "name": "python",
   "nbconvert_exporter": "python",
   "pygments_lexer": "ipython3",
   "version": "3.10.6"
  },
  "orig_nbformat": 4,
  "vscode": {
   "interpreter": {
    "hash": "f2b2526a0e03ec914cce738522397d0b803a9e5e9e368fdd2086deada4b3a928"
   }
  }
 },
 "nbformat": 4,
 "nbformat_minor": 2
}
